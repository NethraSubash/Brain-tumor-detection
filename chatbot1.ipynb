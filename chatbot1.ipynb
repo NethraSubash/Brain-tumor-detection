{
  "nbformat": 4,
  "nbformat_minor": 0,
  "metadata": {
    "colab": {
      "provenance": [],
      "authorship_tag": "ABX9TyMZnfEOBqm25ffw3IHawNm/",
      "include_colab_link": true
    },
    "kernelspec": {
      "name": "python3",
      "display_name": "Python 3"
    },
    "language_info": {
      "name": "python"
    }
  },
  "cells": [
    {
      "cell_type": "markdown",
      "metadata": {
        "id": "view-in-github",
        "colab_type": "text"
      },
      "source": [
        "<a href=\"https://colab.research.google.com/github/NethraSubash/Brain-tumor-detection/blob/main/chatbot1.ipynb\" target=\"_parent\"><img src=\"https://colab.research.google.com/assets/colab-badge.svg\" alt=\"Open In Colab\"/></a>"
      ]
    },
    {
      "cell_type": "code",
      "execution_count": null,
      "metadata": {
        "id": "fKBDAPe9Yrb4"
      },
      "outputs": [],
      "source": []
    },
    {
      "cell_type": "code",
      "source": [
        "import nltk\n",
        "from nltk.chat.util import Chat, reflections\n",
        "\n",
        "# Download required NLTK package (if not already downloaded)\n",
        "nltk.download('punkt')\n",
        "\n",
        "# Define some sample patterns and responses (Pairs)\n",
        "pairs = [\n",
        "    [\n",
        "        r\"hi|hello|hey\",\n",
        "        [\"Hello! How can I help you today?\", \"Hey there! How's it going?\", \"Hi! How can I assist you?\"]\n",
        "    ],\n",
        "    [\n",
        "        r\"what is your name?\",\n",
        "        [\"I am a simple chatbot created to assist you.\", \"You can call me Chatbot. What's your name?\"]\n",
        "    ],\n",
        "    [\n",
        "        r\"how are you?\",\n",
        "        [\"I'm just a program, but thanks for asking! How about you?\", \"I'm here to help you. How can I assist you today?\"]\n",
        "    ],\n",
        "    [\n",
        "        r\"what can you do?\",\n",
        "        [\"I can chat with you and answer basic questions!\", \"I'm here to engage in simple conversations. Give it a try!\"]\n",
        "    ],\n",
        "    [\n",
        "        r\"bye|goodbye|exit\",\n",
        "        [\"Goodbye! Have a great day!\", \"Bye! Take care.\"]\n",
        "    ],\n",
        "]\n",
        "\n",
        "# Create a chatbot instance\n",
        "chatbot = Chat(pairs, reflections)\n",
        "\n",
        "def start_chat():\n",
        "    print(\"Chatbot: Hi! I am your chatbot. Type 'exit' to end the chat.\")\n",
        "    while True:\n",
        "        user_input = input(\"You: \")\n",
        "        if user_input.lower() == 'exit':\n",
        "            print(\"Chatbot: Goodbye! Have a great day!\")\n",
        "            break\n",
        "        response = chatbot.respond(user_input)\n",
        "        if response:\n",
        "            print(\"Chatbot:\", response)\n",
        "        else:\n",
        "            print(\"Chatbot: I'm sorry, I didn't understand that.\")\n",
        "\n",
        "\n",
        "if __name__ == \"__main__\":\n",
        "    start_chat()\n"
      ],
      "metadata": {
        "colab": {
          "base_uri": "https://localhost:8080/"
        },
        "id": "NfiqsiMgdSHU",
        "outputId": "58f93cee-f011-4293-96c7-c5313ee945c1"
      },
      "execution_count": null,
      "outputs": [
        {
          "output_type": "stream",
          "name": "stderr",
          "text": [
            "[nltk_data] Downloading package punkt to /root/nltk_data...\n",
            "[nltk_data]   Package punkt is already up-to-date!\n"
          ]
        },
        {
          "output_type": "stream",
          "name": "stdout",
          "text": [
            "Chatbot: Hi! I am your chatbot. Type 'exit' to end the chat.\n",
            "You: hi\n",
            "Chatbot: Hi! How can I assist you?\n",
            "You: what is your name\n",
            "Chatbot: You can call me Chatbot. What's your name?\n",
            "You: how are you\n",
            "Chatbot: I'm here to help you. How can I assist you today?\n",
            "You: what can you do\n",
            "Chatbot: I can chat with you and answer basic questions!\n",
            "You: bye\n",
            "Chatbot: Bye! Take care.\n",
            "You: exit\n",
            "Chatbot: Goodbye! Have a great day!\n"
          ]
        }
      ]
    },
    {
      "cell_type": "code",
      "source": [
        "import nltk\n",
        "from nltk.chat.util import Chat, reflections\n",
        "\n",
        "# Predefined pairs of patterns and responses\n",
        "pairs = [\n",
        "    (r'hello|hi|hey', ['Hello!', 'Hi there!', 'Hey! How can I help you?']),\n",
        "    (r'how are you?', ['I am fine, thank you!', 'Doing great! How about you?']),\n",
        "    (r'(.*) your name?', ['I am a chatbot created to assist you.', 'You can call me Chatbot!']),\n",
        "    (r'what can you do?', ['I can chat with you and help you with basic queries.', 'I am here to chat and assist you!']),\n",
        "    (r'(.*) created you?', ['I was created by a developer using Python and NLTK.']),\n",
        "    (r'(.*) (weather|forecast) (.*)', ['Sorry, I cannot provide weather updates at the moment.']),\n",
        "    (r'bye|exit|quit', ['Goodbye! Take care!', 'Bye! Have a great day!']),\n",
        "    (r'(.*)', ['I am not sure about that. Can you tell me more?'])\n",
        "]\n",
        "\n",
        "# Create a chatbot instance\n",
        "chatbot = Chat(pairs, reflections)\n",
        "\n",
        "# Start the chatbot\n",
        "print(\"Hello! I am your chatbot.\")\n",
        "chatbot.converse()\n"
      ],
      "metadata": {
        "colab": {
          "base_uri": "https://localhost:8080/"
        },
        "id": "TfrycxWOci5L",
        "outputId": "95ee04d6-4713-4a83-8350-f0e406561514"
      },
      "execution_count": null,
      "outputs": [
        {
          "output_type": "stream",
          "name": "stdout",
          "text": [
            "Hello! I am your chatbot.\n",
            ">hi\n",
            "Hello!\n",
            ">how are you\n",
            "I am fine, thank you!\n",
            ">what are your hobbies\n",
            "I am not sure about that. Can you tell me more?\n",
            ">quit\n",
            "Bye! Have a great day!\n"
          ]
        }
      ]
    }
  ]
}